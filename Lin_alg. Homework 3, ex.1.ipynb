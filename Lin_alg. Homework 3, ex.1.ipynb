{
 "cells": [
  {
   "cell_type": "markdown",
   "id": "b2ff8e51",
   "metadata": {},
   "source": [
    "ЗАДАНИЕ 1."
   ]
  },
  {
   "cell_type": "markdown",
   "id": "806ee580",
   "metadata": {},
   "source": [
    "Найдите собственные векторы и собственные значения для линейного оператора, заданного матрицей [[-1, -6] [2, 6]]"
   ]
  },
  {
   "cell_type": "code",
   "execution_count": 2,
   "id": "132a825e",
   "metadata": {},
   "outputs": [],
   "source": [
    "import numpy as np"
   ]
  },
  {
   "cell_type": "code",
   "execution_count": 4,
   "id": "f2b60008",
   "metadata": {},
   "outputs": [
    {
     "name": "stdout",
     "output_type": "stream",
     "text": [
      "Matrix A:\n",
      "[[-1 -6]\n",
      " [ 2  6]]\n",
      "Eigenvalue:\n",
      "[2. 3.]\n",
      "Eigenvectors:\n",
      "[[-0.89442719  0.83205029]\n",
      " [ 0.4472136  -0.5547002 ]]\n"
     ]
    }
   ],
   "source": [
    "a = np.array([[-1, -6], [2, 6]])\n",
    "w, v = np.linalg.eig(a)\n",
    "\n",
    "print(f'Matrix A:\\n{a}')\n",
    "print(f'Eigenvalue:\\n{w}')\n",
    "print(f'Eigenvectors:\\n{v}')"
   ]
  }
 ],
 "metadata": {
  "kernelspec": {
   "display_name": "Python 3",
   "language": "python",
   "name": "python3"
  },
  "language_info": {
   "codemirror_mode": {
    "name": "ipython",
    "version": 3
   },
   "file_extension": ".py",
   "mimetype": "text/x-python",
   "name": "python",
   "nbconvert_exporter": "python",
   "pygments_lexer": "ipython3",
   "version": "3.8.8"
  }
 },
 "nbformat": 4,
 "nbformat_minor": 5
}
