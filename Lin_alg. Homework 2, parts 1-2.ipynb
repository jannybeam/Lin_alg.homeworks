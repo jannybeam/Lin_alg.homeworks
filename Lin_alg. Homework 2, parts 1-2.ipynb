{
 "cells": [
  {
   "cell_type": "markdown",
   "id": "e7dd5f6a",
   "metadata": {},
   "source": [
    "# Часть 1."
   ]
  },
  {
   "cell_type": "code",
   "execution_count": 9,
   "id": "b44c82ec",
   "metadata": {},
   "outputs": [],
   "source": [
    "import numpy as np"
   ]
  },
  {
   "cell_type": "markdown",
   "id": "a0665316",
   "metadata": {},
   "source": [
    "ЗАДАНИЕ 1."
   ]
  },
  {
   "cell_type": "markdown",
   "id": "29d7f1cf",
   "metadata": {},
   "source": [
    "1. Установите, какие произведения матриц  𝐴𝐵  и  𝐵𝐴  определены, и найдите размерности полученных матриц:\n",
    "\n",
    "а)  𝐴  — матрица  4×2 ,  𝐵  — матрица  4×2 ;\n",
    "\n",
    "б)  𝐴  — матрица  2×5 ,  𝐵  — матрица  5×3 ;\n",
    "\n",
    "в)  𝐴  — матрица  8×3 ,  𝐵  — матрица  3×8 ;\n",
    "\n",
    "г)  𝐴  — квадратная матрица  4×4 ,  𝐵  — квадратная матрица  4×4 ."
   ]
  },
  {
   "cell_type": "markdown",
   "id": "40a0625f",
   "metadata": {},
   "source": [
    "а) A*B или В*A = 4×2 и 4х2 - произведения не определены."
   ]
  },
  {
   "cell_type": "markdown",
   "id": "c630a5c3",
   "metadata": {},
   "source": [
    "б) A*B = 2×5 и 5×3 - произведение определено, размерность полученной матрицы = 2х3.\n",
    "   \n",
    "   B*A = 5х3 и 2х5 - произведение не определено."
   ]
  },
  {
   "cell_type": "markdown",
   "id": "6c08922a",
   "metadata": {},
   "source": [
    "в) A*B = 8х3 и 3х8 - произведение определено, размерность полученной матрицы = 8х8.\n",
    "   \n",
    "   B*A = 3х8 и 8х3 - произведение определено, размерность полученной матрицы = 3х3."
   ]
  },
  {
   "cell_type": "markdown",
   "id": "4e110592",
   "metadata": {},
   "source": [
    "г) A*B или B*A = 4х4 и 4х4 - произведения определены, размерность полученных матриы = 4х4."
   ]
  },
  {
   "cell_type": "markdown",
   "id": "0f455ab4",
   "metadata": {},
   "source": [
    "ЗАДАНИЕ 2."
   ]
  },
  {
   "cell_type": "markdown",
   "id": "bce87aba",
   "metadata": {},
   "source": [
    "Найдите сумму и произведение матриц  𝐴=(13−20)  и  𝐵=(40−15)."
   ]
  },
  {
   "cell_type": "code",
   "execution_count": 10,
   "id": "b4198c28",
   "metadata": {},
   "outputs": [
    {
     "data": {
      "text/plain": [
       "array([[ 5, -3],\n",
       "       [ 3,  5]])"
      ]
     },
     "execution_count": 10,
     "metadata": {},
     "output_type": "execute_result"
    }
   ],
   "source": [
    "x = np.array([[1,-2], [3,0]])\n",
    "y = np.array([[4,-1], [0,5]])\n",
    "result2_1 = x + y\n",
    "result2_1"
   ]
  },
  {
   "cell_type": "code",
   "execution_count": 11,
   "id": "270a616e",
   "metadata": {},
   "outputs": [
    {
     "data": {
      "text/plain": [
       "array([[  4, -11],\n",
       "       [ 12,  -3]])"
      ]
     },
     "execution_count": 11,
     "metadata": {},
     "output_type": "execute_result"
    }
   ],
   "source": [
    "result2_2 = np.dot(x, y)\n",
    "result2_2"
   ]
  },
  {
   "cell_type": "markdown",
   "id": "91bfd5c0",
   "metadata": {},
   "source": [
    "ЗАДАНИЕ 3."
   ]
  },
  {
   "cell_type": "markdown",
   "id": "868d0603",
   "metadata": {},
   "source": [
    "Из закономерностей сложения и умножения матриц на число можно сделать вывод, что матрицы одного размера образуют линейное пространство. Вычислите линейную комбинацию  3𝐴−2𝐵+4𝐶  для матриц  𝐴=(137−6) ,  𝐵=(025−1) ,  𝐶=(21−41)."
   ]
  },
  {
   "cell_type": "code",
   "execution_count": 12,
   "id": "453da3eb",
   "metadata": {},
   "outputs": [
    {
     "data": {
      "text/plain": [
       "array([[ 11,  -5],\n",
       "       [  9, -12]])"
      ]
     },
     "execution_count": 12,
     "metadata": {},
     "output_type": "execute_result"
    }
   ],
   "source": [
    "x = np.array([[1,7], [3,-6]])\n",
    "y = np.array([[0,5], [2,-1]])\n",
    "z = np.array([[2,-4], [1,1]])\n",
    "result3 = (3 * x) + (-2 * y) + (4 * z)\n",
    "result3"
   ]
  },
  {
   "cell_type": "markdown",
   "id": "8e7285c9",
   "metadata": {},
   "source": [
    "ЗАДАНИЕ 4."
   ]
  },
  {
   "cell_type": "markdown",
   "id": "7255c83f",
   "metadata": {},
   "source": [
    "Дана матрица  𝐴=[[4,1] [5,-2] [2,3]]. Вычислите  𝐴𝐴𝑇  и  𝐴𝑇𝐴 ."
   ]
  },
  {
   "cell_type": "code",
   "execution_count": 13,
   "id": "af2a9871",
   "metadata": {},
   "outputs": [
    {
     "data": {
      "text/plain": [
       "array([[ 4,  5,  2],\n",
       "       [ 1, -2,  3]])"
      ]
     },
     "execution_count": 13,
     "metadata": {},
     "output_type": "execute_result"
    }
   ],
   "source": [
    "a = np.array([[4,1], [5,-2], [2,3]])\n",
    "aT = a.T\n",
    "aT"
   ]
  },
  {
   "cell_type": "code",
   "execution_count": 14,
   "id": "339fd63f",
   "metadata": {},
   "outputs": [
    {
     "data": {
      "text/plain": [
       "array([[17, 18, 11],\n",
       "       [18, 29,  4],\n",
       "       [11,  4, 13]])"
      ]
     },
     "execution_count": 14,
     "metadata": {},
     "output_type": "execute_result"
    }
   ],
   "source": [
    "result4_1 = np.dot(a, aT)\n",
    "result4_1"
   ]
  },
  {
   "cell_type": "code",
   "execution_count": 15,
   "id": "fa700690",
   "metadata": {},
   "outputs": [
    {
     "data": {
      "text/plain": [
       "array([[45,  0],\n",
       "       [ 0, 14]])"
      ]
     },
     "execution_count": 15,
     "metadata": {},
     "output_type": "execute_result"
    }
   ],
   "source": [
    "result4_2 = np.dot(aT, a)\n",
    "result4_2"
   ]
  },
  {
   "cell_type": "markdown",
   "id": "2e254bdc",
   "metadata": {},
   "source": [
    "ЗАДАНИЕ 5* - не выполнено."
   ]
  },
  {
   "cell_type": "markdown",
   "id": "47db4f7f",
   "metadata": {},
   "source": [
    "# Часть 2."
   ]
  },
  {
   "cell_type": "code",
   "execution_count": 17,
   "id": "acc8ab36",
   "metadata": {},
   "outputs": [],
   "source": [
    "import numpy as np"
   ]
  },
  {
   "cell_type": "markdown",
   "id": "50f78911",
   "metadata": {},
   "source": [
    "ЗАДАНИЕ 1."
   ]
  },
  {
   "cell_type": "markdown",
   "id": "f502e224",
   "metadata": {},
   "source": [
    "1. Вычислите определитель:\n",
    "\n",
    "a) [[𝑠𝑖𝑛𝑥,-𝑐𝑜𝑠𝑥] [𝑐𝑜𝑠𝑥,𝑠𝑖𝑛𝑥]];\n",
    " \n",
    "б) [[4, 2, 3] [0,5,1] [009]];\n",
    " \n",
    "в) [[1,2,3] [4,5,6] [7,8,9]]."
   ]
  },
  {
   "cell_type": "markdown",
   "id": "8699c9e1",
   "metadata": {},
   "source": [
    "а) det = sinx*sinx - (cosx * (-cosX)) = sin²x + cos²x = 1"
   ]
  },
  {
   "cell_type": "markdown",
   "id": "e8fc5098",
   "metadata": {},
   "source": [
    "б) :"
   ]
  },
  {
   "cell_type": "code",
   "execution_count": 18,
   "id": "1e4905cb",
   "metadata": {},
   "outputs": [
    {
     "data": {
      "text/plain": [
       "180.0"
      ]
     },
     "execution_count": 18,
     "metadata": {},
     "output_type": "execute_result"
    }
   ],
   "source": [
    "a1_2 = np.array([[4,2,3], [0,5,1], [0,0,9]])\n",
    "det1_2 = np.linalg.det(a1_2)\n",
    "det1_2"
   ]
  },
  {
   "cell_type": "markdown",
   "id": "3d47bf97",
   "metadata": {},
   "source": [
    "в):"
   ]
  },
  {
   "cell_type": "code",
   "execution_count": 19,
   "id": "fcfcd951",
   "metadata": {},
   "outputs": [
    {
     "data": {
      "text/plain": [
       "-9.51619735392994e-16"
      ]
     },
     "execution_count": 19,
     "metadata": {},
     "output_type": "execute_result"
    }
   ],
   "source": [
    "a1_3 = np.array([[1,2,3], [4,5,6], [7,8,9]])\n",
    "det1_3 = np.linalg.det(a1_3)\n",
    "det1_3"
   ]
  },
  {
   "cell_type": "markdown",
   "id": "4d1b855d",
   "metadata": {},
   "source": [
    "ЗАДАНИЕ 2. "
   ]
  },
  {
   "cell_type": "markdown",
   "id": "f7102289",
   "metadata": {},
   "source": [
    "Определитель матрицы  𝐴  равен  4 . Найдите:\n",
    "\n",
    "а)  𝑑𝑒𝑡(𝐴2) ;\n",
    "\n",
    "б)  𝑑𝑒𝑡(𝐴𝑇) ;\n",
    "\n",
    "в)  𝑑𝑒𝑡(2𝐴) ."
   ]
  },
  {
   "cell_type": "markdown",
   "id": "6846f1a9",
   "metadata": {},
   "source": [
    "а) det(A²) = det(AA) = det(A) * det(a) = 4 * 4 = 16.\n",
    "\n",
    "б) det(AT) = det(A) = 4.\n",
    "\n",
    "в) det(2A) = det(A) * 2ⁿ = 4 * 2ⁿ (где n - количество строк в матрице)."
   ]
  },
  {
   "cell_type": "markdown",
   "id": "749f8313",
   "metadata": {},
   "source": [
    "ЗАДАНИЕ 3."
   ]
  },
  {
   "cell_type": "markdown",
   "id": "3e66784c",
   "metadata": {},
   "source": [
    "Докажите, что матрица [[-2,7,-3] [4,-14,6] [-3,7,13]] вырожденная."
   ]
  },
  {
   "cell_type": "code",
   "execution_count": 20,
   "id": "b3e12ac0",
   "metadata": {},
   "outputs": [
    {
     "data": {
      "text/plain": [
       "0.0"
      ]
     },
     "execution_count": 20,
     "metadata": {},
     "output_type": "execute_result"
    }
   ],
   "source": [
    "a3 = np.array([[-2,7,-3], [4,-14,6], [-3,7,13]])\n",
    "det3 = np.linalg.det(a3)\n",
    "det3"
   ]
  },
  {
   "cell_type": "markdown",
   "id": "18fab06e",
   "metadata": {},
   "source": [
    "Так как определитель матрицы равен \"0\" - заданная матрица вырожденная."
   ]
  },
  {
   "cell_type": "markdown",
   "id": "c6bb6a03",
   "metadata": {},
   "source": [
    "ЗАДАНИЕ 4."
   ]
  },
  {
   "cell_type": "markdown",
   "id": "ef1e48b3",
   "metadata": {},
   "source": [
    "Найдите ранг матрицы:\n",
    "а) [[1,2,3] [1,1,1] [2,3,4]]\n",
    "\n",
    "б) [[0,0,2,1] [0,0,2,2,] [0,0,4,3] [2,3,5,6]]"
   ]
  },
  {
   "cell_type": "markdown",
   "id": "53079adf",
   "metadata": {},
   "source": [
    "a):"
   ]
  },
  {
   "cell_type": "code",
   "execution_count": 23,
   "id": "a04c524b",
   "metadata": {},
   "outputs": [
    {
     "data": {
      "text/plain": [
       "2"
      ]
     },
     "execution_count": 23,
     "metadata": {},
     "output_type": "execute_result"
    }
   ],
   "source": [
    "a = np.array([[1,2,3], [1,1,1], [2,3,4]])\n",
    "resulta = np.linalg.matrix_rank(a4_1)\n",
    "resulta"
   ]
  },
  {
   "cell_type": "markdown",
   "id": "bdafb1a1",
   "metadata": {},
   "source": [
    "б):"
   ]
  },
  {
   "cell_type": "code",
   "execution_count": 24,
   "id": "3afe3dc2",
   "metadata": {},
   "outputs": [
    {
     "data": {
      "text/plain": [
       "3"
      ]
     },
     "execution_count": 24,
     "metadata": {},
     "output_type": "execute_result"
    }
   ],
   "source": [
    "b = np.array([[0,0,2,1], [0,0,2,2], [0,0,4,3], [2,3,5,6]])\n",
    "resultb = np.linalg.matrix_rank(a4_2)\n",
    "resultb"
   ]
  }
 ],
 "metadata": {
  "kernelspec": {
   "display_name": "Python 3",
   "language": "python",
   "name": "python3"
  },
  "language_info": {
   "codemirror_mode": {
    "name": "ipython",
    "version": 3
   },
   "file_extension": ".py",
   "mimetype": "text/x-python",
   "name": "python",
   "nbconvert_exporter": "python",
   "pygments_lexer": "ipython3",
   "version": "3.8.8"
  }
 },
 "nbformat": 4,
 "nbformat_minor": 5
}
