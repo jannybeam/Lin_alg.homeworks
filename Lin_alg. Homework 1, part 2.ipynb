{
 "cells": [
  {
   "cell_type": "code",
   "execution_count": 7,
   "id": "3afdec5e",
   "metadata": {},
   "outputs": [],
   "source": [
    "import matplotlib as plt\n",
    "import numpy as np\n",
    "from numpy.linalg import norm"
   ]
  },
  {
   "cell_type": "markdown",
   "id": "298a5e27",
   "metadata": {},
   "source": [
    "ЗАДАНИЕ 1."
   ]
  },
  {
   "cell_type": "markdown",
   "id": "8c6ed6a7",
   "metadata": {},
   "source": [
    "Найдите скалярное произведение векторов  𝑥,𝑦∈ℝ :\n",
    "а)  𝑥=(0,−3,6), 𝑦=(−4,7,9); \n",
    "б)  𝑥=(7,−4,0,1), 𝑦=(−3,1,11,2)."
   ]
  },
  {
   "cell_type": "code",
   "execution_count": 8,
   "id": "e864a3d9",
   "metadata": {},
   "outputs": [],
   "source": [
    "x = np.array([0, -3, 6])\n",
    "y = np.array([-4, 7, 9])"
   ]
  },
  {
   "cell_type": "code",
   "execution_count": 9,
   "id": "07136075",
   "metadata": {},
   "outputs": [
    {
     "name": "stdout",
     "output_type": "stream",
     "text": [
      "(x, y)=\t33\n"
     ]
    }
   ],
   "source": [
    "print(f'(x, y)=\\t{x.dot(y)}')"
   ]
  },
  {
   "cell_type": "code",
   "execution_count": 10,
   "id": "acee3355",
   "metadata": {},
   "outputs": [],
   "source": [
    "x = np.array([7, -4, 0, 1])\n",
    "y = np.array([-3, 1, 11, 2])"
   ]
  },
  {
   "cell_type": "code",
   "execution_count": 11,
   "id": "6c9a991c",
   "metadata": {},
   "outputs": [
    {
     "name": "stdout",
     "output_type": "stream",
     "text": [
      "(x, y)=\t-23\n"
     ]
    }
   ],
   "source": [
    "print(f'(x, y)=\\t{x.dot(y)}')"
   ]
  },
  {
   "cell_type": "markdown",
   "id": "e0e83afc",
   "metadata": {},
   "source": [
    "ЗАДАНИЕ 2."
   ]
  },
  {
   "cell_type": "markdown",
   "id": "55d70006",
   "metadata": {},
   "source": [
    "Найдите нормы векторов  (4,2,4)  и  (12,3,4)  и угол между ними."
   ]
  },
  {
   "cell_type": "code",
   "execution_count": 12,
   "id": "fc0ce70e",
   "metadata": {},
   "outputs": [],
   "source": [
    "x = np.array([4, 2, 4])\n",
    "y = np.array([12, 3, 4])"
   ]
  },
  {
   "cell_type": "code",
   "execution_count": 13,
   "id": "02451320",
   "metadata": {},
   "outputs": [
    {
     "name": "stdout",
     "output_type": "stream",
     "text": [
      "l1 vector norm x:\t10.0\n",
      "l1 vector norm y:\t19.0\n"
     ]
    }
   ],
   "source": [
    "print(f'l1 vector norm x:\\t{norm(x, ord = 1)}')\n",
    "print(f'l1 vector norm y:\\t{norm(y, ord = 1)}')"
   ]
  },
  {
   "cell_type": "code",
   "execution_count": 14,
   "id": "e2af2538",
   "metadata": {},
   "outputs": [
    {
     "name": "stdout",
     "output_type": "stream",
     "text": [
      "l2 vector norm x:\t6.0\n",
      "l2 vector norm y:\t13.0\n"
     ]
    }
   ],
   "source": [
    "print(f'l2 vector norm x:\\t{norm(x, ord = 2)}')\n",
    "print(f'l2 vector norm y:\\t{norm(y, ord = 2)}')"
   ]
  },
  {
   "cell_type": "code",
   "execution_count": 18,
   "id": "34429dd9",
   "metadata": {},
   "outputs": [
    {
     "name": "stdout",
     "output_type": "stream",
     "text": [
      "cosine between x and y: 0.90\n",
      "angle between x and y: 0.46\n"
     ]
    }
   ],
   "source": [
    "cos_phi = np.dot(x, y) / norm(x) / norm(y)\n",
    "print(f'cosine between x and y: {cos_phi:.2f}')\n",
    "print(f'angle between x and y: {np.arccos(cos_phi):.2f}')"
   ]
  },
  {
   "cell_type": "markdown",
   "id": "4a793fff",
   "metadata": {},
   "source": [
    "ЗАДАНИЕ 3."
   ]
  },
  {
   "cell_type": "markdown",
   "id": "e5b97448",
   "metadata": {},
   "source": [
    "Определите, будет ли линейное пространство евклидовым, если за скалярное произведение принять:\n",
    "а) произведение длин векторов;\n",
    "б) утроенное обычное скалярное произведение векторов?"
   ]
  },
  {
   "cell_type": "markdown",
   "id": "6dab0322",
   "metadata": {},
   "source": [
    "Аксиомы Евклидова пространства:\n",
    "1) xy = yx (скалярное произведение коммутативно);\n",
    "2) (tx)y = t(xy);\n",
    "3) (x + y)z = xz + yz (скалярное произведение дистрибутивно\n",
    "относительно сложения);\n",
    "4) xx > 0, причем xx = 0 тогда и только тогда, когда x = 0."
   ]
  },
  {
   "cell_type": "markdown",
   "id": "9d2c1a72",
   "metadata": {},
   "source": [
    "Следовательно:\n",
    "а) Линейное пространство не является Евкливым - не выполняется аксиома №3.\n",
    "б) Линейное пространство является Евклидовым - все аксиомы выполняются."
   ]
  },
  {
   "cell_type": "markdown",
   "id": "7de46e0c",
   "metadata": {},
   "source": [
    "ЗАДАНИЕ 4."
   ]
  },
  {
   "cell_type": "markdown",
   "id": "035d08db",
   "metadata": {},
   "source": [
    "Выясните, какие из нижеперечисленных векторов образуют ортонормированный базис в линейном пространстве  ℝ3 :\n",
    "а)  (1,0,0),(0,0,1); \n",
    "б)  (1/2⎯⎯√,−1/2⎯⎯√,0),(1/2⎯⎯√,1/2⎯⎯√,0),(0,0,1); \n",
    "в)  (1/2,−1/2,0),(0,1/2,1/2),(0,0,1); \n",
    "г)  (1,0,0),(0,1,0),(0,0,1)?"
   ]
  },
  {
   "cell_type": "markdown",
   "id": "0728e5ea",
   "metadata": {},
   "source": [
    "Пункт А - векторы образуют ортонормированный базис. но им не являются."
   ]
  },
  {
   "cell_type": "markdown",
   "id": "6b9f4191",
   "metadata": {},
   "source": [
    "Пункт Б (ортонормированный базис):"
   ]
  },
  {
   "cell_type": "code",
   "execution_count": 34,
   "id": "af36fcd3",
   "metadata": {},
   "outputs": [],
   "source": [
    "x = np.array([1/(2)**0.5, -1/(2)**0.5, 0])\n",
    "y = np.array([1/(2)**0.5, 1/(2)**0.5, 0])\n",
    "z = np.array([0, 0, 1])"
   ]
  },
  {
   "cell_type": "code",
   "execution_count": 35,
   "id": "e1b15061",
   "metadata": {},
   "outputs": [
    {
     "name": "stdout",
     "output_type": "stream",
     "text": [
      "(x, x) = 1\n",
      "(y, y) = 1\n",
      "(z, z) = 1\n"
     ]
    }
   ],
   "source": [
    "print(f'(x, x) = {x.dot(x):1.0f}')\n",
    "print(f'(y, y) = {y.dot(y):1.0f}')\n",
    "print(f'(z, z) = {z.dot(z):1.0f}')"
   ]
  },
  {
   "cell_type": "code",
   "execution_count": 36,
   "id": "079f0254",
   "metadata": {},
   "outputs": [
    {
     "name": "stdout",
     "output_type": "stream",
     "text": [
      "(x, y) = 0.0\n",
      "(x, z) = 0.0\n",
      "(z, y) = 0.0\n"
     ]
    }
   ],
   "source": [
    "print(f'(x, y) = {x.dot(y)}')\n",
    "print(f'(x, z) = {x.dot(z)}')\n",
    "print(f'(z, y) = {z.dot(y)}')"
   ]
  },
  {
   "cell_type": "markdown",
   "id": "07d4903c",
   "metadata": {},
   "source": [
    "Пункт В (не ортонормированный базис):"
   ]
  },
  {
   "cell_type": "code",
   "execution_count": 27,
   "id": "a50e3aca",
   "metadata": {},
   "outputs": [],
   "source": [
    "x = np.array([1/2, -1/2, 0])\n",
    "y = np.array([0, 1/2, 1/2])\n",
    "z = np.array([0, 0, 1])"
   ]
  },
  {
   "cell_type": "code",
   "execution_count": 29,
   "id": "40b92702",
   "metadata": {},
   "outputs": [
    {
     "name": "stdout",
     "output_type": "stream",
     "text": [
      "(x, x) = 0.5\n",
      "(y, y) = 0.5\n",
      "(z, z) = 1\n"
     ]
    }
   ],
   "source": [
    "print(f'(x, x) = {x.dot(x)}')\n",
    "print(f'(y, y) = {y.dot(y)}')\n",
    "print(f'(z, z) = {z.dot(z)}')"
   ]
  },
  {
   "cell_type": "code",
   "execution_count": 30,
   "id": "6bedd77d",
   "metadata": {},
   "outputs": [
    {
     "name": "stdout",
     "output_type": "stream",
     "text": [
      "(x, y) = -0.25\n",
      "(x, z) = 0.0\n",
      "(z, y) = 0.5\n"
     ]
    }
   ],
   "source": [
    "print(f'(x, y) = {x.dot(y)}')\n",
    "print(f'(x, z) = {x.dot(z)}')\n",
    "print(f'(z, y) = {z.dot(y)}')"
   ]
  },
  {
   "cell_type": "markdown",
   "id": "e9f31d8b",
   "metadata": {},
   "source": [
    "Пункт Г (ортонормированный базис):"
   ]
  },
  {
   "cell_type": "code",
   "execution_count": 31,
   "id": "102170d3",
   "metadata": {},
   "outputs": [],
   "source": [
    "x = np.array([1, 0, 0])\n",
    "y = np.array([0, 1, 0])\n",
    "z = np.array([0, 0, 1])"
   ]
  },
  {
   "cell_type": "code",
   "execution_count": 32,
   "id": "01f59b32",
   "metadata": {},
   "outputs": [
    {
     "name": "stdout",
     "output_type": "stream",
     "text": [
      "(x, x) = 1\n",
      "(y, y) = 1\n",
      "(z, z) = 1\n"
     ]
    }
   ],
   "source": [
    "print(f'(x, x) = {x.dot(x)}')\n",
    "print(f'(y, y) = {y.dot(y)}')\n",
    "print(f'(z, z) = {z.dot(z)}')"
   ]
  },
  {
   "cell_type": "code",
   "execution_count": 33,
   "id": "24c3208f",
   "metadata": {},
   "outputs": [
    {
     "name": "stdout",
     "output_type": "stream",
     "text": [
      "(x, y) = 0\n",
      "(x, z) = 0\n",
      "(z, y) = 0\n"
     ]
    }
   ],
   "source": [
    "print(f'(x, y) = {x.dot(y)}')\n",
    "print(f'(x, z) = {x.dot(z)}')\n",
    "print(f'(z, y) = {z.dot(y)}')"
   ]
  }
 ],
 "metadata": {
  "kernelspec": {
   "display_name": "Python 3",
   "language": "python",
   "name": "python3"
  },
  "language_info": {
   "codemirror_mode": {
    "name": "ipython",
    "version": 3
   },
   "file_extension": ".py",
   "mimetype": "text/x-python",
   "name": "python",
   "nbconvert_exporter": "python",
   "pygments_lexer": "ipython3",
   "version": "3.8.8"
  }
 },
 "nbformat": 4,
 "nbformat_minor": 5
}
