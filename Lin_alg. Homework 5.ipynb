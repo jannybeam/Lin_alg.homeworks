{
 "cells": [
  {
   "cell_type": "markdown",
   "id": "ba005ce8",
   "metadata": {},
   "source": [
    "ЗАДАНИЕ 1."
   ]
  },
  {
   "cell_type": "markdown",
   "id": "8f783333",
   "metadata": {},
   "source": [
    "Найдите посредством NumPy SVD для матрицы [[1,2,0] [0,0,5] [3,-4,2] [1,6,5] [0,1,0]]"
   ]
  },
  {
   "cell_type": "code",
   "execution_count": 5,
   "id": "55a7c0e1",
   "metadata": {},
   "outputs": [
    {
     "name": "stdout",
     "output_type": "stream",
     "text": [
      "Matrix A:\n",
      "[[ 1  2  0]\n",
      " [ 0  0  5]\n",
      " [ 3 -4  2]\n",
      " [ 1  6  5]\n",
      " [ 0  1  0]]\n",
      "Matrix D:\n",
      "[[8.82 0.   0.  ]\n",
      " [0.   6.14 0.  ]\n",
      " [0.   0.   2.53]\n",
      " [0.   0.   0.  ]\n",
      " [0.   0.   0.  ]]\n",
      "Matrix U:\n",
      "[[ 0.17  0.16 -0.53 -0.8  -0.16]\n",
      " [ 0.39 -0.53  0.61 -0.43  0.03]\n",
      " [-0.14 -0.82 -0.52  0.14  0.07]\n",
      " [ 0.89  0.06 -0.25  0.38 -0.06]\n",
      " [ 0.08  0.11 -0.08 -0.11  0.98]]\n",
      "Matrix V:\n",
      "[[ 0.07 -0.37 -0.93]\n",
      " [ 0.72  0.67 -0.21]\n",
      " [ 0.69 -0.65  0.31]]\n",
      "[[ 1.  2.  0.]\n",
      " [ 0. -0.  5.]\n",
      " [ 3. -4.  2.]\n",
      " [ 1.  6.  5.]\n",
      " [-0.  1. -0.]]\n"
     ]
    }
   ],
   "source": [
    "import math\n",
    "import numpy as np\n",
    "np.set_printoptions(precision = 2, suppress = True)\n",
    "\n",
    "A = np.array([[1, 2, 0],\n",
    "              [0, 0, 5],\n",
    "              [3, -4, 2],\n",
    "              [1, 6, 5],\n",
    "              [0, 1, 0]])\n",
    "print(f'Matrix A:\\n{A}')\n",
    "\n",
    "U, s, W = np.linalg.svd(A)\n",
    "\n",
    "V = W.T\n",
    "\n",
    "D = np.zeros_like(A, dtype = float)\n",
    "D[np.diag_indices(min(A.shape))] = s\n",
    "\n",
    "print(f'Matrix D:\\n{D}')\n",
    "print(f'Matrix U:\\n{U}')\n",
    "print(f'Matrix V:\\n{V}')\n",
    "\n",
    "print(np.dot(np.dot(U, D), V.T))"
   ]
  },
  {
   "cell_type": "markdown",
   "id": "35bf8d47",
   "metadata": {},
   "source": [
    "ЗАДАНИЕ 2."
   ]
  },
  {
   "cell_type": "markdown",
   "id": "338b2fc1",
   "metadata": {},
   "source": [
    "Для матрицы из предыдущего задания найдите:\n",
    "\n",
    "а) евклидову норму;\n",
    "\n",
    "б) норму Фробениуса."
   ]
  },
  {
   "cell_type": "code",
   "execution_count": 6,
   "id": "c42a6b37",
   "metadata": {},
   "outputs": [
    {
     "name": "stdout",
     "output_type": "stream",
     "text": [
      "Singular numbers: [8.82 6.14 2.53]\n",
      "Euclidean norm: 8.824868854820442\n",
      "Frobenius norm: 11.045361017187261\n"
     ]
    }
   ],
   "source": [
    "print(f'Singular numbers: {s}')\n",
    "print(f'Euclidean norm: {max(s)}')\n",
    "\n",
    "sum_kv = 0\n",
    "for num in s:\n",
    "    sum_kv += num ** 2\n",
    "print(f'Frobenius norm: {math.sqrt(sum_kv)}')"
   ]
  }
 ],
 "metadata": {
  "kernelspec": {
   "display_name": "Python 3",
   "language": "python",
   "name": "python3"
  },
  "language_info": {
   "codemirror_mode": {
    "name": "ipython",
    "version": 3
   },
   "file_extension": ".py",
   "mimetype": "text/x-python",
   "name": "python",
   "nbconvert_exporter": "python",
   "pygments_lexer": "ipython3",
   "version": "3.8.8"
  }
 },
 "nbformat": 4,
 "nbformat_minor": 5
}
